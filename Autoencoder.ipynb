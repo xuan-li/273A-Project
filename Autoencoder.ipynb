{
 "cells": [
  {
   "cell_type": "code",
   "execution_count": 3,
   "id": "f832abe7-b032-47aa-98ac-dc6890d7d580",
   "metadata": {},
   "outputs": [],
   "source": [
    "import tensorflow as tf\n",
    "from tensorflow.keras import layers, losses\n",
    "from tensorflow.keras.datasets import mnist\n",
    "from tensorflow.keras.models import Model"
   ]
  },
  {
   "cell_type": "code",
   "execution_count": 4,
   "id": "335fe7a2-9000-4449-ae7a-12bee49964ea",
   "metadata": {},
   "outputs": [],
   "source": [
    "(x_train, _), (x_test, _) = mnist.load_data()\n",
    "x_train = x_train.astype('float32') / 255.\n",
    "x_test = x_test.astype('float32') / 255.\n",
    "x_validate = x_test[:100]"
   ]
  },
  {
   "cell_type": "code",
   "execution_count": 5,
   "id": "360cc2f0-a131-4f81-82b0-b5f6656bd4b1",
   "metadata": {},
   "outputs": [],
   "source": [
    "tf_optimizer = tf.keras.optimizers.Adam(\n",
    "  learning_rate=1e-1,\n",
    "  beta_1=0.99,\n",
    "  epsilon=1e-1)"
   ]
  },
  {
   "cell_type": "code",
   "execution_count": 49,
   "id": "1681df52-4700-46af-a64e-1996f4f4f720",
   "metadata": {},
   "outputs": [],
   "source": [
    "class Autoencoder(object):\n",
    "    def __init__(self, latent_dim=64):\n",
    "        self.encoder = tf.keras.Sequential([\n",
    "          layers.Flatten(),\n",
    "          layers.Dense(latent_dim, activation='relu'),\n",
    "        ])\n",
    "        self.decoder = tf.keras.Sequential([\n",
    "          layers.Dense(784, activation='sigmoid'),\n",
    "          layers.Reshape((28, 28))\n",
    "        ])   \n",
    "        self.dtype = tf.float32\n",
    "\n",
    "    # Defining custom loss\n",
    "    def __loss(self, x_input):\n",
    "        latent_represent = self.encoder(x_input)\n",
    "        recon = self.decoder(latent_represent)\n",
    "        loss = losses.MeanSquaredError()(x_input, recon)\n",
    "        return loss\n",
    "    \n",
    "    def __grad(self, x_input):\n",
    "        with tf.GradientTape() as tape:\n",
    "            loss_value = self.__loss(x_input)\n",
    "        return loss_value, tape.gradient(loss_value, self.__wrap_training_variables())\n",
    "    \n",
    "    def __flat_grad(self, grad):\n",
    "        grad_flat = []\n",
    "        for g in grad:\n",
    "            grad_flat.append(tf.reshape(g, [-1]))\n",
    "        grad_flat =  tf.concat(grad_flat, 0)\n",
    "        return grad_flat\n",
    "    \n",
    "    def __wrap_training_variables(self):\n",
    "        var = self.encoder.trainable_variables + self.decoder.trainable_variables\n",
    "        return var\n",
    "\n",
    "    def get_weights(self):\n",
    "        w = []\n",
    "        if self.encoder.trainable:\n",
    "            for layer in self.encoder.layers:\n",
    "                if layer.count_params() > 0:\n",
    "                    weights_biases = layer.get_weights()\n",
    "                    weights = weights_biases[0].flatten()\n",
    "                    biases = weights_biases[1]\n",
    "                    w.extend(weights)\n",
    "                    w.extend(biases)\n",
    "        \n",
    "        if self.decoder.trainable:\n",
    "            for layer in self.decoder.layers:\n",
    "                if layer.count_params() > 0:\n",
    "                    weights_biases = layer.get_weights()\n",
    "                    weights = weights_biases[0].flatten()\n",
    "                    biases = weights_biases[1]\n",
    "                    w.extend(weights)\n",
    "                    w.extend(biases)\n",
    "                    \n",
    "        return tf.convert_to_tensor(w, dtype=self.dtype)\n",
    "\n",
    "    def set_weights(self, w):\n",
    "        start = 0\n",
    "        if self.encoder.trainable:\n",
    "            for layer in self.encoder.layers:\n",
    "                if layer.count_params() > 0:\n",
    "                    weights_biases = layer.get_weights()\n",
    "                    weights_shape = weights_biases[0].shape\n",
    "                    nweight = tf.reduce_prod(weights_shape)\n",
    "                    nbiases = weights_biases[1].size\n",
    "                    weights_biases = [tf.reshape(w[start: start + nweight], weights_shape), \n",
    "                                     w[start + nweight: start + nweight + nbiases]]\n",
    "                    layer.set_weights(weights_biases)\n",
    "                    start += (nweight + nbiases)\n",
    "        if self.decoder.trainable:\n",
    "            for layer in self.decoder.layers:\n",
    "                if layer.count_params() > 0:\n",
    "                    weights_biases = layer.get_weights()\n",
    "                    weights_shape = weights_biases[0].shape\n",
    "                    nweight = tf.reduce_prod(weights_shape)\n",
    "                    nbiases = weights_biases[1].size\n",
    "                    weights_biases = [tf.reshape(w[start: start + nweight], weights_shape), \n",
    "                                     w[start + nweight: start + nweight + nbiases]]\n",
    "                    layer.set_weights(weights_biases)\n",
    "                    start += (nweight + nbiases)\n",
    "\n",
    "    def summary(self):\n",
    "        self.encoder.summary()\n",
    "        self.decoder.summary()\n",
    "        \n",
    "    # The training function\n",
    "    def fit(self, x_train, x_validate, tf_optimizer, tf_epochs=5000, batch_size=512, shuffle_buffer_size=10 * 512):\n",
    "        train_dataset = tf.data.Dataset.from_tensor_slices(x_train)\n",
    "        train_dataset = train_dataset.shuffle(shuffle_buffer_size).batch(batch_size)\n",
    "        validate_data = tf.convert_to_tensor(x_validate, dtype='float32')\n",
    "        for epoch in range(tf_epochs):\n",
    "            # Optimization step\n",
    "            for data in train_dataset:\n",
    "                loss_value, grads = self.__grad(data)\n",
    "                tf_optimizer.apply_gradients(zip(grads, self.__wrap_training_variables()))\n",
    "            # if (epoch % 1 == 0):\n",
    "            print(f\"epoch: {epoch}, loss_value: {self.__loss(x_validate)}\")"
   ]
  },
  {
   "cell_type": "code",
   "execution_count": 50,
   "id": "0a45298e-b3b1-46ba-af1f-ff72157530e5",
   "metadata": {},
   "outputs": [],
   "source": [
    "net = Autoencoder()"
   ]
  },
  {
   "cell_type": "code",
   "execution_count": 51,
   "id": "32352bb0-5449-414e-a507-ea576ad53654",
   "metadata": {},
   "outputs": [
    {
     "name": "stdout",
     "output_type": "stream",
     "text": [
      "epoch: 0, loss_value: 0.21620357036590576\n",
      "epoch: 1, loss_value: 0.09263485670089722\n",
      "epoch: 2, loss_value: 0.0695282444357872\n",
      "epoch: 3, loss_value: 0.0682690218091011\n",
      "epoch: 4, loss_value: 0.06695490330457687\n",
      "epoch: 5, loss_value: 0.06575649231672287\n",
      "epoch: 6, loss_value: 0.06442543864250183\n",
      "epoch: 7, loss_value: 0.06294121593236923\n",
      "epoch: 8, loss_value: 0.06127731502056122\n",
      "epoch: 9, loss_value: 0.059446100145578384\n"
     ]
    }
   ],
   "source": [
    "net.fit(x_train, x_validate, tf_optimizer, 10)"
   ]
  },
  {
   "cell_type": "code",
   "execution_count": null,
   "id": "10954f9b-95ca-40e3-a20a-ac5a0b90b7aa",
   "metadata": {},
   "outputs": [],
   "source": []
  }
 ],
 "metadata": {
  "kernelspec": {
   "display_name": "Python 3 (ipykernel)",
   "language": "python",
   "name": "python3"
  },
  "language_info": {
   "codemirror_mode": {
    "name": "ipython",
    "version": 3
   },
   "file_extension": ".py",
   "mimetype": "text/x-python",
   "name": "python",
   "nbconvert_exporter": "python",
   "pygments_lexer": "ipython3",
   "version": "3.8.12"
  }
 },
 "nbformat": 4,
 "nbformat_minor": 5
}
